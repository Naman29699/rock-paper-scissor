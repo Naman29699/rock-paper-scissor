{
 "cells": [
  {
   "cell_type": "code",
   "execution_count": 21,
   "metadata": {},
   "outputs": [],
   "source": [
    "import tensorflow as tf\n",
    "from tensorflow.keras.models import Sequential\n",
    "from tensorflow.keras.layers import Dense, Conv2D, Flatten, Dropout, MaxPooling2D\n",
    "from tensorflow.keras.preprocessing.image import ImageDataGenerator\n",
    "\n",
    "import os\n",
    "import numpy as np\n",
    "import matplotlib.pyplot as plt\n",
    "import cv2"
   ]
  },
  {
   "cell_type": "code",
   "execution_count": 22,
   "metadata": {},
   "outputs": [
    {
     "name": "stdout",
     "output_type": "stream",
     "text": [
      "total training rock images: 840\n",
      "total training paper images: 840\n",
      "total training scissor images: 840\n",
      "total test rock images: 124\n",
      "total test paper images: 124\n",
      "total test scissor images: 124\n",
      "--\n",
      "Total training images: 2520\n",
      "Total test images: 372\n"
     ]
    }
   ],
   "source": [
    "train_dir = r\"C:\\Users\\naman\\Desktop\\final\\train\"\n",
    "test_dir = r\"C:\\Users\\naman\\Desktop\\final\\test\"\n",
    "\n",
    "train_rock_dir = r\"C:\\Users\\naman\\Desktop\\final\\train\\rock\"\n",
    "train_paper_dir = r\"C:\\Users\\naman\\Desktop\\final\\train\\paper\"\n",
    "train_scissor_dir = r\"C:\\Users\\naman\\Desktop\\final\\train\\scissor\"\n",
    "\n",
    "test_rock_dir = r\"C:\\Users\\naman\\Desktop\\final\\test\\rock\"\n",
    "test_paper_dir = r\"C:\\Users\\naman\\Desktop\\final\\test\\paper\"\n",
    "test_scissor_dir = r\"C:\\Users\\naman\\Desktop\\final\\test\\scissor\"\n",
    "\n",
    "num_rock_tr = len(os.listdir(train_rock_dir))\n",
    "num_paper_tr = len(os.listdir(train_paper_dir))\n",
    "num_scissor_tr = len(os.listdir(train_scissor_dir))\n",
    "\n",
    "num_rock_test = len(os.listdir(test_rock_dir))\n",
    "num_paper_test = len(os.listdir(test_paper_dir))\n",
    "num_scissor_test = len(os.listdir(test_scissor_dir))\n",
    "\n",
    "total_train = num_scissor_tr + num_paper_tr + num_rock_tr  \n",
    "total_test = num_rock_test + num_paper_test + num_scissor_test\n",
    "\n",
    "print('total training rock images:', num_rock_tr)\n",
    "print('total training paper images:', num_paper_tr)\n",
    "print('total training scissor images:', num_scissor_tr)\n",
    "\n",
    "print('total test rock images:', num_rock_test)\n",
    "print('total test paper images:', num_paper_test)\n",
    "print('total test scissor images:', num_scissor_test)\n",
    "print(\"--\")\n",
    "print(\"Total training images:\", total_train)\n",
    "print(\"Total test images:\", total_test)"
   ]
  },
  {
   "cell_type": "code",
   "execution_count": 23,
   "metadata": {},
   "outputs": [],
   "source": [
    "IMG_HEIGHT = 150\n",
    "IMG_WIDTH = 150"
   ]
  },
  {
   "cell_type": "code",
   "execution_count": 24,
   "metadata": {},
   "outputs": [
    {
     "name": "stdout",
     "output_type": "stream",
     "text": [
      "Found 2520 images belonging to 3 classes.\n",
      "Found 372 images belonging to 3 classes.\n"
     ]
    }
   ],
   "source": [
    "image_gen_train = ImageDataGenerator(\n",
    "                    rescale=1./255,\n",
    "                    rotation_range=45,\n",
    "                    width_shift_range=.15,\n",
    "                    height_shift_range=.15,\n",
    "                    horizontal_flip=True,\n",
    "                    zoom_range=0.5)\n",
    "\n",
    "train_data_gen = image_gen_train.flow_from_directory(batch_size=5,\n",
    "                                                     directory=train_dir,\n",
    "                                                     shuffle=True,\n",
    "                                                     target_size=(IMG_HEIGHT, IMG_WIDTH),\n",
    "                                                     class_mode='categorical')\n",
    "\n",
    "image_gen_test = ImageDataGenerator(rescale=1./255)\n",
    "\n",
    "test_data_gen = image_gen_test.flow_from_directory(batch_size=5,\n",
    "                                                 directory=test_dir,\n",
    "                                                 target_size=(IMG_HEIGHT, IMG_WIDTH),\n",
    "                                                 class_mode='categorical')"
   ]
  },
  {
   "cell_type": "code",
   "execution_count": 25,
   "metadata": {},
   "outputs": [],
   "source": [
    "model = Sequential([\n",
    "    Conv2D(16, 3, padding='same', activation='relu', \n",
    "           input_shape=(IMG_HEIGHT, IMG_WIDTH ,3)),\n",
    "    MaxPooling2D(),\n",
    "    Dropout(0.2),\n",
    "    Conv2D(32, 3, padding='same', activation='relu'),\n",
    "    MaxPooling2D(),\n",
    "    Conv2D(64, 3, padding='same', activation='relu'),\n",
    "    MaxPooling2D(),\n",
    "    Dropout(0.2),\n",
    "    Flatten(),\n",
    "    Dense(512, activation='relu'),\n",
    "    Dense(3)\n",
    "])"
   ]
  },
  {
   "cell_type": "code",
   "execution_count": 26,
   "metadata": {},
   "outputs": [
    {
     "name": "stdout",
     "output_type": "stream",
     "text": [
      "Model: \"sequential\"\n",
      "_________________________________________________________________\n",
      "Layer (type)                 Output Shape              Param #   \n",
      "=================================================================\n",
      "conv2d (Conv2D)              (None, 150, 150, 16)      448       \n",
      "_________________________________________________________________\n",
      "max_pooling2d (MaxPooling2D) (None, 75, 75, 16)        0         \n",
      "_________________________________________________________________\n",
      "dropout (Dropout)            (None, 75, 75, 16)        0         \n",
      "_________________________________________________________________\n",
      "conv2d_1 (Conv2D)            (None, 75, 75, 32)        4640      \n",
      "_________________________________________________________________\n",
      "max_pooling2d_1 (MaxPooling2 (None, 37, 37, 32)        0         \n",
      "_________________________________________________________________\n",
      "conv2d_2 (Conv2D)            (None, 37, 37, 64)        18496     \n",
      "_________________________________________________________________\n",
      "max_pooling2d_2 (MaxPooling2 (None, 18, 18, 64)        0         \n",
      "_________________________________________________________________\n",
      "dropout_1 (Dropout)          (None, 18, 18, 64)        0         \n",
      "_________________________________________________________________\n",
      "flatten (Flatten)            (None, 20736)             0         \n",
      "_________________________________________________________________\n",
      "dense (Dense)                (None, 512)               10617344  \n",
      "_________________________________________________________________\n",
      "dense_1 (Dense)              (None, 3)                 1539      \n",
      "=================================================================\n",
      "Total params: 10,642,467\n",
      "Trainable params: 10,642,467\n",
      "Non-trainable params: 0\n",
      "_________________________________________________________________\n"
     ]
    }
   ],
   "source": [
    "model.compile(optimizer='adam',\n",
    "              loss=tf.keras.losses.CategoricalCrossentropy(from_logits=True),\n",
    "              metrics=['accuracy'])\n",
    "\n",
    "model.summary()"
   ]
  },
  {
   "cell_type": "code",
   "execution_count": 27,
   "metadata": {},
   "outputs": [
    {
     "name": "stdout",
     "output_type": "stream",
     "text": [
      "WARNING:tensorflow:From <ipython-input-27-f66600e28761>:4: Model.fit_generator (from tensorflow.python.keras.engine.training) is deprecated and will be removed in a future version.\n",
      "Instructions for updating:\n",
      "Please use Model.fit, which supports generators.\n",
      "WARNING:tensorflow:sample_weight modes were coerced from\n",
      "  ...\n",
      "    to  \n",
      "  ['...']\n",
      "WARNING:tensorflow:sample_weight modes were coerced from\n",
      "  ...\n",
      "    to  \n",
      "  ['...']\n",
      "Train for 504 steps, validate for 75 steps\n",
      "Epoch 1/10\n",
      "504/504 [==============================] - 19s 37ms/step - loss: 0.9664 - accuracy: 0.5437 - val_loss: 0.5600 - val_accuracy: 0.7231\n",
      "Epoch 2/10\n",
      "504/504 [==============================] - 16s 33ms/step - loss: 0.6379 - accuracy: 0.7262 - val_loss: 0.2480 - val_accuracy: 0.9409\n",
      "Epoch 3/10\n",
      "504/504 [==============================] - 17s 33ms/step - loss: 0.4931 - accuracy: 0.8056 - val_loss: 0.3014 - val_accuracy: 0.8360\n",
      "Epoch 4/10\n",
      "504/504 [==============================] - 16s 33ms/step - loss: 0.3728 - accuracy: 0.8560 - val_loss: 0.0518 - val_accuracy: 1.0000\n",
      "Epoch 5/10\n",
      "504/504 [==============================] - 16s 33ms/step - loss: 0.3402 - accuracy: 0.8639 - val_loss: 0.1469 - val_accuracy: 0.9462\n",
      "Epoch 6/10\n",
      "504/504 [==============================] - 16s 33ms/step - loss: 0.2861 - accuracy: 0.8964 - val_loss: 0.1218 - val_accuracy: 0.9677\n",
      "Epoch 7/10\n",
      "504/504 [==============================] - 16s 33ms/step - loss: 0.2456 - accuracy: 0.9135 - val_loss: 0.0751 - val_accuracy: 0.9919\n",
      "Epoch 8/10\n",
      "504/504 [==============================] - 17s 33ms/step - loss: 0.2333 - accuracy: 0.9167 - val_loss: 0.0810 - val_accuracy: 0.9677\n",
      "Epoch 9/10\n",
      "504/504 [==============================] - 17s 33ms/step - loss: 0.2259 - accuracy: 0.9143 - val_loss: 0.0385 - val_accuracy: 1.0000\n",
      "Epoch 10/10\n",
      "504/504 [==============================] - 16s 33ms/step - loss: 0.2042 - accuracy: 0.9270 - val_loss: 0.0179 - val_accuracy: 1.0000\n"
     ]
    }
   ],
   "source": [
    "history = model.fit_generator(\n",
    "    train_data_gen,\n",
    "    epochs=10,\n",
    "    validation_data=test_data_gen\n",
    ")"
   ]
  },
  {
   "cell_type": "code",
   "execution_count": 28,
   "metadata": {},
   "outputs": [
    {
     "data": {
      "image/png": "[encoded data removed]",
      "text/plain": [
       "<Figure size 576x576 with 2 Axes>"
      ]
     },
     "metadata": {
      "needs_background": "light"
     },
     "output_type": "display_data"
    }
   ],
   "source": [
    "acc = history.history['accuracy']\n",
    "val_acc = history.history['val_accuracy']\n",
    "\n",
    "loss = history.history['loss']\n",
    "val_loss = history.history['val_loss']\n",
    "\n",
    "epochs_range = range(10)\n",
    "\n",
    "plt.figure(figsize=(8, 8))\n",
    "plt.subplot(1, 2, 1)\n",
    "plt.plot(epochs_range, acc, label='Training Accuracy')\n",
    "plt.plot(epochs_range, val_acc, label='Validation Accuracy')\n",
    "plt.legend(loc='lower right')\n",
    "plt.title('Training and Validation Accuracy')\n",
    "\n",
    "plt.subplot(1, 2, 2)\n",
    "plt.plot(epochs_range, loss, label='Training Loss')\n",
    "plt.plot(epochs_range, val_loss, label='Validation Loss')\n",
    "plt.legend(loc='upper right')\n",
    "plt.title('Training and Validation Loss')\n",
    "plt.show()"
   ]
  },
  {
   "cell_type": "code",
   "execution_count": 31,
   "metadata": {},
   "outputs": [],
   "source": [
    "model_json = model.to_json()\n",
    "with open(\"model.json\", \"w\") as json_file:\n",
    "    json_file.write(model_json) \n",
    "model.save_weights('model.h5')    "
   ]
  },
  {
   "cell_type": "code",
   "execution_count": null,
   "metadata": {},
   "outputs": [],
   "source": []
  }
 ],
 "metadata": {
  "kernelspec": {
   "display_name": "Python 3",
   "language": "python",
   "name": "python3"
  },
  "language_info": {
   "codemirror_mode": {
    "name": "ipython",
    "version": 3
   },
   "file_extension": ".py",
   "mimetype": "text/x-python",
   "name": "python",
   "nbconvert_exporter": "python",
   "pygments_lexer": "ipython3",
   "version": "3.7.7"
  }
 },
 "nbformat": 4,
 "nbformat_minor": 4
}
